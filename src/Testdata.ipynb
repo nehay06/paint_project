{
 "cells": [
  {
   "cell_type": "code",
   "execution_count": 1,
   "metadata": {
    "collapsed": true
   },
   "outputs": [],
   "source": [
    "import numpy as np"
   ]
  },
  {
   "cell_type": "code",
   "execution_count": 2,
   "metadata": {},
   "outputs": [
    {
     "name": "stdout",
     "output_type": "stream",
     "text": [
      "[[ 1.23461911]\n",
      " [-0.39361261]]\n"
     ]
    }
   ],
   "source": [
    "#normal\n",
    "A =np.array([[121,100],[113,93],[112,92]]) #22,24 \n",
    "y = np.array([[110],[103],[102]])#23\n",
    "m, c,_,_ = np.linalg.lstsq(A, y)\n",
    "print m"
   ]
  },
  {
   "cell_type": "code",
   "execution_count": 36,
   "metadata": {},
   "outputs": [
    {
     "name": "stdout",
     "output_type": "stream",
     "text": [
      "115.278 94.979 104.979\n"
     ]
    }
   ],
   "source": [
    "#x1 = R*0.299 + G*0.587 + B*0.114\n",
    "x1 = (121*0.299)+(113*0.587)+(112*0.114)\n",
    "x2 = (100*0.299)+(93*0.587)+(92*0.114)\n",
    "x3 = (110*0.299)+(103*0.587)+(102*0.114) #mid \n",
    "print x1,x2,x3"
   ]
  },
  {
   "cell_type": "code",
   "execution_count": 37,
   "metadata": {},
   "outputs": [
    {
     "name": "stdout",
     "output_type": "stream",
     "text": [
      "0.492635105178 0.507364894822\n"
     ]
    }
   ],
   "source": [
    "# a1 = (x3-x2)/x1-x2\n",
    "a1 = (x3-x2)/(x1-x2)\n",
    "print a1,1-a1"
   ]
  },
  {
   "cell_type": "code",
   "execution_count": 111,
   "metadata": {
    "collapsed": true
   },
   "outputs": [],
   "source": [
    "%matplotlib inline"
   ]
  },
  {
   "cell_type": "code",
   "execution_count": 33,
   "metadata": {},
   "outputs": [],
   "source": [
    "# import matplotlib.pyplot as plt\n",
    "# plt.imshow([[(121.0, 113.0, 112.0)]])"
   ]
  },
  {
   "cell_type": "code",
   "execution_count": 34,
   "metadata": {},
   "outputs": [],
   "source": [
    "# import matplotlib.pyplot as plt\n",
    "# plt.imshow([[(100.0, 93.0, 92.0)]])"
   ]
  },
  {
   "cell_type": "code",
   "execution_count": 31,
   "metadata": {},
   "outputs": [],
   "source": [
    "# import matplotlib.pyplot as plt\n",
    "# plt.imshow([[(110.0, 103.0, 102.0)]])"
   ]
  },
  {
   "cell_type": "code",
   "execution_count": 83,
   "metadata": {},
   "outputs": [
    {
     "name": "stdout",
     "output_type": "stream",
     "text": [
      "[[ 0.5]\n",
      " [ 0.5]]\n"
     ]
    }
   ],
   "source": [
    "#bright\n",
    "A =np.array([[170,140],[158,130],[158,130]]) #22,24\n",
    "y = np.array([[155],[144],[144]])#23\n",
    "m, c,_,_ = np.linalg.lstsq(A, y)\n",
    "print m"
   ]
  },
  {
   "cell_type": "code",
   "execution_count": 6,
   "metadata": {},
   "outputs": [
    {
     "name": "stdout",
     "output_type": "stream",
     "text": [
      "161.588 132.99 147.289\n",
      "0.5\n"
     ]
    }
   ],
   "source": [
    "#x1 = R*0.299 + G*0.587 + B*0.114\n",
    "x1 = (170*0.299)+(158*0.587)+(158*0.114)\n",
    "x2 = (140*0.299)+(130*0.587)+(130*0.114)\n",
    "x3 = (155*0.299)+(144*0.587)+(144*0.114) #mid \n",
    "print x1,x2,x3\n",
    "# a1 = (x3-x2)/x1-x2\n",
    "a2 = (x3-x2)/(x1-x2)\n",
    "print a2"
   ]
  },
  {
   "cell_type": "code",
   "execution_count": 84,
   "metadata": {},
   "outputs": [
    {
     "name": "stdout",
     "output_type": "stream",
     "text": [
      "[[-0.9]\n",
      " [ 2.2]]\n"
     ]
    }
   ],
   "source": [
    "#darker\n",
    "A =np.array([[68,56],[64,53],[64,53]]) #22,24\n",
    "y = np.array([[62],[59],[59]])#23\n",
    "m, c,_,_ = np.linalg.lstsq(A, y)\n",
    "print m"
   ]
  },
  {
   "cell_type": "code",
   "execution_count": 7,
   "metadata": {},
   "outputs": [
    {
     "name": "stdout",
     "output_type": "stream",
     "text": [
      "65.196 53.897 59.897\n",
      "0.531020444287\n"
     ]
    }
   ],
   "source": [
    "#x1 = R*0.299 + G*0.587 + B*0.114\n",
    "x1 = (68*0.299)+(64*0.587)+(64*0.114)\n",
    "x2 = (56*0.299)+(53*0.587)+(53*0.114)\n",
    "x3 = (62*0.299)+(59*0.587)+(59*0.114) #mid \n",
    "print x1,x2,x3\n",
    "# a1 = (x3-x2)/x1-x2\n",
    "a3 = (x3-x2)/(x1-x2)\n",
    "print a3"
   ]
  },
  {
   "cell_type": "code",
   "execution_count": 90,
   "metadata": {},
   "outputs": [
    {
     "name": "stdout",
     "output_type": "stream",
     "text": [
      "[[ 0.18505338]\n",
      " [ 0.86120996]]\n"
     ]
    }
   ],
   "source": [
    "#normal\n",
    "A =np.array([[206,181],[203,177],[203,177]]) #15,17 \n",
    "y = np.array([[194],[190],[190]])#16\n",
    "m, c,_,_ = np.linalg.lstsq(A, y)\n",
    "print m"
   ]
  },
  {
   "cell_type": "code",
   "execution_count": 9,
   "metadata": {},
   "outputs": [
    {
     "name": "stdout",
     "output_type": "stream",
     "text": [
      "203.897 178.196 191.196\n",
      "0.505816894284\n"
     ]
    }
   ],
   "source": [
    "#x1 = R*0.299 + G*0.587 + B*0.114\n",
    "x1 = (206*0.299)+(203*0.587)+(203*0.114)\n",
    "x2 = (181*0.299)+(177*0.587)+(177*0.114)\n",
    "x3 = (194*0.299)+(190*0.587)+(190*0.114) #mid \n",
    "print x1,x2,x3\n",
    "# a1 = (x3-x2)/x1-x2\n",
    "a1 = (x3-x2)/(x1-x2)\n",
    "print a1,1-a1"
   ]
  },
  {
   "cell_type": "code",
   "execution_count": 12,
   "metadata": {},
   "outputs": [],
   "source": [
    "# r1 = 1.23461911/0.18505338\n",
    "# r2 = -0.39361261/0.86120996\n",
    "# c1 = 1.23461911/-0.39361261\n",
    "# c2 =0.18505338/0.86120996\n",
    "# print r1,r2\n",
    "# print c1,c2,c1/c2"
   ]
  },
  {
   "cell_type": "code",
   "execution_count": 68,
   "metadata": {},
   "outputs": [
    {
     "name": "stdout",
     "output_type": "stream",
     "text": [
      "[[-2.96052632]\n",
      " [ 3.71710526]]\n"
     ]
    }
   ],
   "source": [
    "#bright\n",
    "A =np.array([[224,208],[219,202],[219,202]]) #15,17 \n",
    "y = np.array([[110],[103],[102]])#16\n",
    "m, c,_,_ = np.linalg.lstsq(A, y)\n",
    "print m"
   ]
  },
  {
   "cell_type": "code",
   "execution_count": 30,
   "metadata": {},
   "outputs": [
    {
     "name": "stdout",
     "output_type": "stream",
     "text": [
      "220.495 203.794 104.979\n",
      "-5.91671157416 6.91671157416\n"
     ]
    }
   ],
   "source": [
    "#x1 = R*0.299 + G*0.587 + B*0.114\n",
    "x1 = (224*0.299)+(219*0.587)+(219*0.114)\n",
    "x2 = (208*0.299)+(202*0.587)+(202*0.114)\n",
    "x3 = (110*0.299)+(103*0.587)+(102*0.114) #mid \n",
    "print x1,x2,x3\n",
    "# a1 = (x3-x2)/x1-x2\n",
    "a2 = (x3-x2)/(x1-x2)\n",
    "print a2,1-a2"
   ]
  },
  {
   "cell_type": "code",
   "execution_count": 69,
   "metadata": {},
   "outputs": [
    {
     "name": "stdout",
     "output_type": "stream",
     "text": [
      "[[ 1.23461911]\n",
      " [-0.39361261]]\n"
     ]
    }
   ],
   "source": [
    "#dark\n",
    "A =np.array([[121,100],[113,93],[112,92]]) #15,17 \n",
    "y = np.array([[110],[103],[102]])#16\n",
    "m, c,_,_ = np.linalg.lstsq(A, y)\n",
    "print m"
   ]
  },
  {
   "cell_type": "code",
   "execution_count": 29,
   "metadata": {},
   "outputs": [
    {
     "name": "stdout",
     "output_type": "stream",
     "text": [
      "115.278 94.979 104.979\n",
      "0.492635105178\n"
     ]
    }
   ],
   "source": [
    "#x1 = R*0.299 + G*0.587 + B*0.114\n",
    "x1 = (121*0.299)+(113*0.587)+(112*0.114)\n",
    "x2 = (100*0.299)+(93*0.587)+(92*0.114)\n",
    "x3 = (110*0.299)+(103*0.587)+(102*0.114) #mid \n",
    "print x1,x2,x3\n",
    "# a1 = (x3-x2)/x1-x2\n",
    "a3 = (x3-x2)/(x1-x2)\n",
    "print a3"
   ]
  },
  {
   "cell_type": "code",
   "execution_count": 79,
   "metadata": {},
   "outputs": [
    {
     "name": "stdout",
     "output_type": "stream",
     "text": [
      "[[ 0.27466909]\n",
      " [ 0.86488519]]\n"
     ]
    }
   ],
   "source": [
    "#normal\n",
    "A =np.array([[169,100],[164,93],[164,92]]) #18,24\n",
    "y = np.array([[133],[125],[125]])#21\n",
    "m, c,_,_ = np.linalg.lstsq(A, y)\n",
    "print m"
   ]
  },
  {
   "cell_type": "code",
   "execution_count": 18,
   "metadata": {},
   "outputs": [
    {
     "name": "stdout",
     "output_type": "stream",
     "text": [
      "165.495 94.979 127.392\n",
      "0.459654546486 0.540345453514\n"
     ]
    }
   ],
   "source": [
    "#x1 = R*0.299 + G*0.587 + B*0.114\n",
    "x1 = (169*0.299)+(164*0.587)+(164*0.114)\n",
    "x2 = (100*0.299)+(93*0.587)+(92*0.114)\n",
    "x3 = (133*0.299)+(125*0.587)+(125*0.114) #mid \n",
    "print x1,x2,x3\n",
    "# a1 = (x3-x2)/x1-x2\n",
    "a1 = (x3-x2)/(x1-x2)\n",
    "print a1,1-a1"
   ]
  },
  {
   "cell_type": "code",
   "execution_count": 15,
   "metadata": {},
   "outputs": [],
   "source": [
    "# import matplotlib.pyplot as plt\n",
    "# plt.imshow([[(169.0, 164.0, 164.0)]])"
   ]
  },
  {
   "cell_type": "code",
   "execution_count": 16,
   "metadata": {},
   "outputs": [],
   "source": [
    "# import matplotlib.pyplot as plt\n",
    "# plt.imshow([[(100.0, 93.0, 92.0)]])"
   ]
  },
  {
   "cell_type": "code",
   "execution_count": 17,
   "metadata": {},
   "outputs": [],
   "source": [
    "# import matplotlib.pyplot as plt\n",
    "# plt.imshow([[(133.0, 125.0, 125.0)]])"
   ]
  },
  {
   "cell_type": "code",
   "execution_count": 80,
   "metadata": {},
   "outputs": [
    {
     "name": "stdout",
     "output_type": "stream",
     "text": [
      "[[ 0.2254902 ]\n",
      " [ 0.94215686]]\n"
     ]
    }
   ],
   "source": [
    "#bright\n",
    "A =np.array([[200,140],[193,130],[193,130]]) #18,24\n",
    "y = np.array([[177],[166],[166]])#21\n",
    "m, c,_,_ = np.linalg.lstsq(A, y)\n",
    "print m"
   ]
  },
  {
   "cell_type": "code",
   "execution_count": 19,
   "metadata": {},
   "outputs": [
    {
     "name": "stdout",
     "output_type": "stream",
     "text": [
      "195.093 132.99 169.289\n",
      "0.584496723186 0.415503276814\n"
     ]
    }
   ],
   "source": [
    "#x1 = R*0.299 + G*0.587 + B*0.114\n",
    "x1 = (200*0.299)+(193*0.587)+(193*0.114)\n",
    "x2 = (140*0.299)+(130*0.587)+(130*0.114)\n",
    "x3 = (177*0.299)+(166*0.587)+(166*0.114) #mid \n",
    "print x1,x2,x3\n",
    "# a1 = (x3-x2)/x1-x2\n",
    "a2 = (x3-x2)/(x1-x2)\n",
    "print a2,1-a2"
   ]
  },
  {
   "cell_type": "code",
   "execution_count": 20,
   "metadata": {},
   "outputs": [],
   "source": [
    "# import matplotlib.pyplot as plt\n",
    "# plt.imshow([[(200.0, 193.0, 193.0)]])"
   ]
  },
  {
   "cell_type": "code",
   "execution_count": 21,
   "metadata": {},
   "outputs": [],
   "source": [
    "# import matplotlib.pyplot as plt\n",
    "# plt.imshow([[(140.0, 130.0, 130.0)]])"
   ]
  },
  {
   "cell_type": "code",
   "execution_count": 22,
   "metadata": {},
   "outputs": [],
   "source": [
    "# import matplotlib.pyplot as plt\n",
    "# plt.imshow([[(177.0, 166.0, 166.0)]])"
   ]
  },
  {
   "cell_type": "code",
   "execution_count": 81,
   "metadata": {},
   "outputs": [
    {
     "name": "stdout",
     "output_type": "stream",
     "text": [
      "[[ 0.12916667]\n",
      " [ 1.20416667]]\n"
     ]
    }
   ],
   "source": [
    "#darker\n",
    "A =np.array([[136,56],[133,53],[133,53]]) #18,24\n",
    "y = np.array([[85],[81],[81]])#21\n",
    "m, c,_,_ = np.linalg.lstsq(A, y)\n",
    "print m"
   ]
  },
  {
   "cell_type": "code",
   "execution_count": 23,
   "metadata": {},
   "outputs": [
    {
     "name": "stdout",
     "output_type": "stream",
     "text": [
      "133.897 53.897 82.196\n",
      "0.3537375 0.6462625\n"
     ]
    }
   ],
   "source": [
    "#x1 = R*0.299 + G*0.587 + B*0.114\n",
    "x1 = (136*0.299)+(133*0.587)+(133*0.114)\n",
    "x2 = (56*0.299)+(53*0.587)+(53*0.114)\n",
    "x3 = (85*0.299)+(81*0.587)+(81*0.114) #mid \n",
    "print x1,x2,x3\n",
    "# a1 = (x3-x2)/x1-x2\n",
    "a3 = (x3-x2)/(x1-x2)\n",
    "print a3,1-a3"
   ]
  },
  {
   "cell_type": "code",
   "execution_count": 92,
   "metadata": {},
   "outputs": [
    {
     "name": "stdout",
     "output_type": "stream",
     "text": [
      "[[ 0.76214712]\n",
      " [ 0.22489664]]\n"
     ]
    }
   ],
   "source": [
    "#normal Red \n",
    "A =np.array([[217,209],[60,17],[106,13]]) #18,24\n",
    "y = np.array([[213],[38],[89]])#21\n",
    "m, c,_,_ = np.linalg.lstsq(A, y)\n",
    "print m"
   ]
  },
  {
   "cell_type": "code",
   "execution_count": 28,
   "metadata": {},
   "outputs": [
    {
     "name": "stdout",
     "output_type": "stream",
     "text": [
      "112.187 73.952 96.139\n",
      "0.580279848307 0.419720151693\n"
     ]
    }
   ],
   "source": [
    "#x1 = R*0.299 + G*0.587 + B*0.114\n",
    "x1 = (217*0.299)+(60*0.587)+(106*0.114)\n",
    "x2 = (209*0.299)+(17*0.587)+(13*0.114)\n",
    "x3 = (213*0.299)+(38*0.587)+(89*0.114) #mid \n",
    "print x1,x2,x3\n",
    "# a1 = (x3-x2)/x1-x2\n",
    "a1 = (x3-x2)/(x1-x2)\n",
    "print a1,1-a1"
   ]
  },
  {
   "cell_type": "code",
   "execution_count": 96,
   "metadata": {},
   "outputs": [
    {
     "name": "stdout",
     "output_type": "stream",
     "text": [
      "[[ 0.5]\n",
      " [ 0.5]]\n"
     ]
    }
   ],
   "source": [
    "#bright\n",
    "A =np.array([[255,255],[62,20],[116,86]]) #18,24\n",
    "y = np.array([[255],[41],[101]])#21\n",
    "m, c,_,_ = np.linalg.lstsq(A, y)\n",
    "print m"
   ]
  },
  {
   "cell_type": "code",
   "execution_count": 27,
   "metadata": {},
   "outputs": [
    {
     "name": "stdout",
     "output_type": "stream",
     "text": [
      "125.863 97.789 111.826\n",
      "0.5 0.5\n"
     ]
    }
   ],
   "source": [
    "#x1 = R*0.299 + G*0.587 + B*0.114\n",
    "x1 = (255*0.299)+(62*0.587)+(116*0.114)\n",
    "x2 = (255*0.299)+(20*0.587)+(86*0.114)\n",
    "x3 = (255*0.299)+(41*0.587)+(101*0.114) #mid \n",
    "print x1,x2,x3\n",
    "# a1 = (x3-x2)/x1-x2\n",
    "a2 = (x3-x2)/(x1-x2)\n",
    "print a2,1-a2"
   ]
  },
  {
   "cell_type": "code",
   "execution_count": 98,
   "metadata": {},
   "outputs": [
    {
     "name": "stdout",
     "output_type": "stream",
     "text": [
      "[[ 0.6528501 ]\n",
      " [ 0.33174593]]\n"
     ]
    }
   ],
   "source": [
    "#dark\n",
    "A =np.array([[213,204],[59,16],[102,69]]) #18,24\n",
    "y = np.array([[208],[47],[85]])#21\n",
    "m, c,_,_ = np.linalg.lstsq(A, y)\n",
    "print m"
   ]
  },
  {
   "cell_type": "code",
   "execution_count": 25,
   "metadata": {},
   "outputs": [
    {
     "name": "stdout",
     "output_type": "stream",
     "text": [
      "109.948 78.254 99.471\n",
      "0.669432700196 0.330567299804\n"
     ]
    }
   ],
   "source": [
    "#x1 = R*0.299 + G*0.587 + B*0.114\n",
    "x1 = (213*0.299)+(59*0.587)+(102*0.114)\n",
    "x2 = (204*0.299)+(16*0.587)+(69*0.114)\n",
    "x3 = (208*0.299)+(47*0.587)+(85*0.114) #mid \n",
    "print x1,x2,x3\n",
    "# a1 = (x3-x2)/x1-x2\n",
    "a3 = (x3-x2)/(x1-x2)\n",
    "print a3,1-a3"
   ]
  },
  {
   "cell_type": "code",
   "execution_count": null,
   "metadata": {
    "collapsed": true
   },
   "outputs": [],
   "source": []
  }
 ],
 "metadata": {
  "kernelspec": {
   "display_name": "Python 2",
   "language": "python",
   "name": "python2"
  },
  "language_info": {
   "codemirror_mode": {
    "name": "ipython",
    "version": 2
   },
   "file_extension": ".py",
   "mimetype": "text/x-python",
   "name": "python",
   "nbconvert_exporter": "python",
   "pygments_lexer": "ipython2",
   "version": "2.7.13"
  }
 },
 "nbformat": 4,
 "nbformat_minor": 2
}
