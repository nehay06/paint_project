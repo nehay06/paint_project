{
 "cells": [
  {
   "cell_type": "code",
   "execution_count": 32,
   "metadata": {
    "collapsed": true
   },
   "outputs": [],
   "source": [
    "from skimage.io import imread\n",
    "from skimage.io import imsave\n",
    "import matplotlib.pyplot as plt \n"
   ]
  },
  {
   "cell_type": "code",
   "execution_count": 48,
   "metadata": {
    "collapsed": true
   },
   "outputs": [],
   "source": [
    "blueDir =\"./blue/\"\n",
    "redFir = \"./red/\"\n",
    "greenDir = \"./green/\"\n",
    "testDir = \"./target/\""
   ]
  },
  {
   "cell_type": "code",
   "execution_count": 19,
   "metadata": {
    "collapsed": true
   },
   "outputs": [],
   "source": [
    "bluePixels = []\n",
    "redPixels = []\n",
    "greenPixels =[]"
   ]
  },
  {
   "cell_type": "code",
   "execution_count": 23,
   "metadata": {},
   "outputs": [],
   "source": [
    "for i in range(1,13):\n",
    "    img = imread(blueDir +\"b\"+str(i)+\".png\")\n",
    "    average_color = [img[:, :, i].mean() for i in range(img.shape[-1])]\n",
    "    bluePixels.append(average_color[2])"
   ]
  },
  {
   "cell_type": "code",
   "execution_count": 26,
   "metadata": {},
   "outputs": [],
   "source": [
    "for i in range(1,13):\n",
    "    img = imread(redFir +\"r\"+str(i)+\".png\")\n",
    "    average_color = [img[:, :, i].mean() for i in range(img.shape[-1])]\n",
    "    redPixels.append(average_color[0])"
   ]
  },
  {
   "cell_type": "code",
   "execution_count": 28,
   "metadata": {},
   "outputs": [],
   "source": [
    "for i in range(1,13):\n",
    "    img = imread(greenDir +\"g\"+str(i)+\".png\")\n",
    "    average_color = [img[:, :, i].mean() for i in range(img.shape[-1])]\n",
    "    greenPixels.append(average_color[1])"
   ]
  },
  {
   "cell_type": "code",
   "execution_count": 30,
   "metadata": {},
   "outputs": [
    {
     "name": "stdout",
     "output_type": "stream",
     "text": [
      "[34.200000000000003, 33.864415322580648, 42.981732649071361, 50.933173195368319, 50.502956393200293, 65.084136933461906, 88.482762777242044, 100.80306971904267, 113.87466124661246, 127.23869410569105, 133.1781631097561, 138.25443548387096, 34.200000000000003, 33.864415322580648, 42.981732649071361, 50.933173195368319, 50.502956393200293, 65.084136933461906, 88.482762777242044, 100.80306971904267, 113.87466124661246, 127.23869410569105, 133.1781631097561, 138.25443548387096]\n",
      "[16.077029914529916, 23.277458639705884, 16.077029914529916, 23.277458639705884, 40.975681420355087, 59.269827178030305, 76.026201923076925, 91.020182291666671, 102.33923400894972, 112.40055831265509, 112.23861434108527, 114.18712316968131, 114.62016666666666, 105.09376600102406]\n",
      "[23.97200630252101, 30.792158223455932, 52.93811230585424, 75.273772267693786, 85.30295801526718, 110.89149184149184, 129.1404923599321, 145.86683238636363, 154.99749522900763, 168.57276119402985, 181.2650462962963, 202.00287224264707]\n"
     ]
    }
   ],
   "source": [
    "print bluePixels\n",
    "print greenPixels\n",
    "print redPixels"
   ]
  },
  {
   "cell_type": "code",
   "execution_count": 42,
   "metadata": {},
   "outputs": [
    {
     "data": {
      "text/plain": [
       "<matplotlib.image.AxesImage at 0x11084a4d0>"
      ]
     },
     "execution_count": 42,
     "metadata": {},
     "output_type": "execute_result"
    },
    {
     "data": {
      "image/png": "[encoded data removed]",
      "text/plain": [
       "<matplotlib.figure.Figure at 0x1106a7910>"
      ]
     },
     "metadata": {},
     "output_type": "display_data"
    }
   ],
   "source": [
    "# %matplotlib inline\n",
    "# plt.imshow([[(255.0,255.0,255.0)]]) #166, 187, 124"
   ]
  },
  {
   "cell_type": "code",
   "execution_count": 51,
   "metadata": {},
   "outputs": [
    {
     "name": "stdout",
     "output_type": "stream",
     "text": [
      "14.7873577437\n",
      "83.4854032657\n",
      "35.8332508659\n"
     ]
    }
   ],
   "source": [
    "img = imread(testDir +\"t\"+str(i)+\".png\")\n",
    "average_color = [img[:, :, i].mean() for i in range(img.shape[-1])]\n",
    "redTarget = average_color[0]\n",
    "greenTarget = average_color[1]\n",
    "blueTarget = average_color[2]\n",
    "print redTarget\n",
    "print greenTarget\n",
    "print blueTarget"
   ]
  },
  {
   "cell_type": "code",
   "execution_count": null,
   "metadata": {
    "collapsed": true
   },
   "outputs": [],
   "source": []
  }
 ],
 "metadata": {
  "kernelspec": {
   "display_name": "Python 2",
   "language": "python",
   "name": "python2"
  },
  "language_info": {
   "codemirror_mode": {
    "name": "ipython",
    "version": 2
   },
   "file_extension": ".py",
   "mimetype": "text/x-python",
   "name": "python",
   "nbconvert_exporter": "python",
   "pygments_lexer": "ipython2",
   "version": "2.7.13"
  }
 },
 "nbformat": 4,
 "nbformat_minor": 2
}
