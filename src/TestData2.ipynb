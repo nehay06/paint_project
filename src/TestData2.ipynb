{
 "cells": [
  {
   "cell_type": "code",
   "execution_count": 3,
   "metadata": {},
   "outputs": [
    {
     "name": "stdout",
     "output_type": "stream",
     "text": [
      "140.093 73.794 104.979\n",
      "0.470369085507 0.529630914493\n"
     ]
    }
   ],
   "source": [
    "#normal\n",
    "#x1 = R*0.299 + G*0.587 + B*0.114\n",
    "x1 = (145*0.299)+(138*0.587)+(138*0.114) #11 [145,138,138]\n",
    "x2 = (78*0.299)+(72*0.587)+(72*0.114)  #17 [78,72,72]\n",
    "x3 = (110*0.299)+(103*0.587)+(102*0.114) #14 [110,103,102]\n",
    "print x1,x2,x3\n",
    "a1 = (x3-x2)/(x1-x2)\n",
    "print a1,1-a1"
   ]
  },
  {
   "cell_type": "code",
   "execution_count": 11,
   "metadata": {},
   "outputs": [
    {
     "name": "stdout",
     "output_type": "stream",
     "text": [
      "177.99 103.392 104.979\n",
      "0.0212740287943 0.978725971206\n"
     ]
    }
   ],
   "source": [
    "#bright RHS same\n",
    "#x1 = R*0.299 + G*0.587 + B*0.114\n",
    "x1 = (185*0.299)+(175*0.587)+(175*0.114) #11 [185,175,175]\n",
    "x2 = (109*0.299)+(101*0.587)+(101*0.114)  #17 [109,101,101]\n",
    "x3 = (110*0.299)+(103*0.587)+(102*0.114) #14 [110,103,102]\n",
    "print x1,x2,x3\n",
    "a2 = (x3-x2)/(x1-x2)\n",
    "print a2,1-a2"
   ]
  },
  {
   "cell_type": "code",
   "execution_count": 12,
   "metadata": {},
   "outputs": [
    {
     "name": "stdout",
     "output_type": "stream",
     "text": [
      "177.99 103.392 147.289\n",
      "0.588447411459 0.411552588541\n"
     ]
    }
   ],
   "source": [
    "#bright x3 in same lighting conditions\n",
    "#x1 = R*0.299 + G*0.587 + B*0.114\n",
    "x1 = (185*0.299)+(175*0.587)+(175*0.114) #11 [185,175,175]\n",
    "x2 = (109*0.299)+(101*0.587)+(101*0.114)  #17 [109,101,101]\n",
    "x3 = (155*0.299)+(144*0.587)+(144*0.114) #14 [155,144,144]\n",
    "print x1,x2,x3\n",
    "a_2 = (x3-x2)/(x1-x2)\n",
    "print a_2,1-a_2"
   ]
  },
  {
   "cell_type": "code",
   "execution_count": 9,
   "metadata": {},
   "outputs": [
    {
     "name": "stdout",
     "output_type": "stream",
     "text": [
      "99.196 41.897 59.897\n",
      "0.314141608056 0.685858391944\n"
     ]
    }
   ],
   "source": [
    "#dark x3 in same ligting conditions\n",
    "#x1 = R*0.299 + G*0.587 + B*0.114\n",
    "x1 = (102*0.299)+(98*0.587)+(98*0.114) #11 [102,98,98]\n",
    "x2 = (44*0.299)+(41*0.587)+(41*0.114)  #17 [44,41,41]\n",
    "x3 = (62*0.299)+(59*0.587)+(59*0.114) #14 [62,59,59]\n",
    "print x1,x2,x3\n",
    "a3 = (x3-x2)/(x1-x2)\n",
    "print a3,1-a3"
   ]
  },
  {
   "cell_type": "code",
   "execution_count": 10,
   "metadata": {},
   "outputs": [
    {
     "name": "stdout",
     "output_type": "stream",
     "text": [
      "99.196 41.897 104.979\n",
      "1.10092671774 -0.100926717744\n"
     ]
    }
   ],
   "source": [
    "#dark x3 in orginal ligting conditions\n",
    "#x1 = R*0.299 + G*0.587 + B*0.114\n",
    "x1 = (102*0.299)+(98*0.587)+(98*0.114) #11 [102,98,98]\n",
    "x2 = (44*0.299)+(41*0.587)+(41*0.114)  #17 [44,41,41]\n",
    "x3 = (110*0.299)+(103*0.587)+(102*0.114) #14 [110,103,102]\n",
    "print x1,x2,x3\n",
    "a_3 = (x3-x2)/(x1-x2)\n",
    "print a_3,1-a_3"
   ]
  },
  {
   "cell_type": "code",
   "execution_count": 13,
   "metadata": {},
   "outputs": [
    {
     "name": "stdout",
     "output_type": "stream",
     "text": [
      "[0.457652701674, 0.542347298326]\n"
     ]
    }
   ],
   "source": [
    "a1 = [0.470369085507, 0.529630914493]\n",
    "a2 = [0.588447411459, 0.411552588541]\n",
    "a3 = [0.314141608056, 0.685858391944]\n",
    "a = [(a1[0]+a2[0]+a3[0])/3,(a1[1]+a2[1]+a3[1])/3]\n",
    "print a"
   ]
  },
  {
   "cell_type": "code",
   "execution_count": 15,
   "metadata": {},
   "outputs": [
    {
     "name": "stdout",
     "output_type": "stream",
     "text": [
      "31.598 11.0 21.299\n",
      "0.5 0.5\n"
     ]
    }
   ],
   "source": [
    "#normal\n",
    "#x1 = R*0.299 + G*0.587 + B*0.114\n",
    "x1 = (33*0.299)+(31*0.587)+(31*0.114) #21 [33,31,31]\n",
    "x2 = (11*0.299)+(11*0.587)+(11*0.114)  #23 [11,11,11]\n",
    "x3 = (22*0.299)+(21*0.587)+(21*0.114) #22 [22,21,21]\n",
    "print x1,x2,x3\n",
    "a1 = (x3-x2)/(x1-x2)\n",
    "print a1,1-a1"
   ]
  },
  {
   "cell_type": "code",
   "execution_count": 16,
   "metadata": {},
   "outputs": [
    {
     "name": "stdout",
     "output_type": "stream",
     "text": [
      "44.897 15.299 21.299\n",
      "0.202716399757 0.797283600243\n"
     ]
    }
   ],
   "source": [
    "#bright RHS same\n",
    "#x1 = R*0.299 + G*0.587 + B*0.114\n",
    "x1 = (47*0.299)+(44*0.587)+(44*0.114) #21 [47,44,44]\n",
    "x2 = (16*0.299)+(15*0.587)+(15*0.114)  #23 [16,15,15]\n",
    "x3 = (22*0.299)+(21*0.587)+(21*0.114) #22 [22,21,21]\n",
    "print x1,x2,x3\n",
    "a2 = (x3-x2)/(x1-x2)\n",
    "print a2,1-a2"
   ]
  },
  {
   "cell_type": "code",
   "execution_count": 18,
   "metadata": {},
   "outputs": [
    {
     "name": "stdout",
     "output_type": "stream",
     "text": [
      "44.897 15.299 29.598\n",
      "0.483106966687 0.516893033313\n"
     ]
    }
   ],
   "source": [
    "#bright x3 in same lighting conditions\n",
    "#x1 = R*0.299 + G*0.587 + B*0.114\n",
    "x1 = (47*0.299)+(44*0.587)+(44*0.114) #21 [47,44,44]\n",
    "x2 = (16*0.299)+(15*0.587)+(15*0.114)  #23 [16,15,15]\n",
    "x3 = (31*0.299)+(29*0.587)+(29*0.114) #22 [31,29,29]\n",
    "print x1,x2,x3\n",
    "a_2 = (x3-x2)/(x1-x2)\n",
    "print a_2,1-a_2"
   ]
  },
  {
   "cell_type": "code",
   "execution_count": 19,
   "metadata": {},
   "outputs": [
    {
     "name": "stdout",
     "output_type": "stream",
     "text": [
      "18.299 6.299 12.299\n",
      "0.5 0.5\n"
     ]
    }
   ],
   "source": [
    "#dark x3 in same ligting conditions\n",
    "#x1 = R*0.299 + G*0.587 + B*0.114\n",
    "x1 = (19*0.299)+(18*0.587)+(18*0.114) #21 [19,18,18]\n",
    "x2 = (7*0.299)+(6*0.587)+(6*0.114)  #23 [7,6,6]\n",
    "x3 = (13*0.299)+(12*0.587)+(12*0.114) #22 [13,12,12]\n",
    "print x1,x2,x3\n",
    "a3 = (x3-x2)/(x1-x2)\n",
    "print a3,1-a3"
   ]
  },
  {
   "cell_type": "code",
   "execution_count": 20,
   "metadata": {},
   "outputs": [
    {
     "name": "stdout",
     "output_type": "stream",
     "text": [
      "18.299 6.299 21.299\n",
      "1.25 -0.25\n"
     ]
    }
   ],
   "source": [
    "#dark x3 in orginal ligting conditions\n",
    "#x1 = R*0.299 + G*0.587 + B*0.114\n",
    "x1 = (19*0.299)+(18*0.587)+(18*0.114) #21 [19,18,18]\n",
    "x2 = (7*0.299)+(6*0.587)+(6*0.114)  #23 [7,6,6]\n",
    "x3 = (22*0.299)+(21*0.587)+(21*0.114) #22 [22,21,21]\n",
    "print x1,x2,x3\n",
    "a_3 = (x3-x2)/(x1-x2)\n",
    "print a_3,1-a_3"
   ]
  },
  {
   "cell_type": "code",
   "execution_count": 22,
   "metadata": {},
   "outputs": [
    {
     "name": "stdout",
     "output_type": "stream",
     "text": [
      "[0.49436898889566666, 0.5056310111043333]\n"
     ]
    }
   ],
   "source": [
    "a1 = [0.5, 0.5]\n",
    "a2 = [0.483106966687, 0.516893033313]\n",
    "a3 = [0.5 ,0.5]\n",
    "a = [(a1[0]+a2[0]+a3[0])/3,(a1[1]+a2[1]+a3[1])/3]\n",
    "print a"
   ]
  },
  {
   "cell_type": "code",
   "execution_count": null,
   "metadata": {
    "collapsed": true
   },
   "outputs": [],
   "source": []
  }
 ],
 "metadata": {
  "kernelspec": {
   "display_name": "Python 2",
   "language": "python",
   "name": "python2"
  },
  "language_info": {
   "codemirror_mode": {
    "name": "ipython",
    "version": 2
   },
   "file_extension": ".py",
   "mimetype": "text/x-python",
   "name": "python",
   "nbconvert_exporter": "python",
   "pygments_lexer": "ipython2",
   "version": "2.7.13"
  }
 },
 "nbformat": 4,
 "nbformat_minor": 2
}
